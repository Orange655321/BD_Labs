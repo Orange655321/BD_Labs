{
 "cells": [
  {
   "cell_type": "code",
   "execution_count": 1,
   "id": "b19e8678-ed54-4382-85f8-ec00117c4a90",
   "metadata": {},
   "outputs": [],
   "source": [
    "from pyspark import SparkContext, SparkConf \n",
    "from pyspark.sql import SparkSession\n",
    "import pyspark.sql as sql\n",
    "from pyspark.sql.functions import col\n",
    "import os\n",
    "\n",
    "from pyspark.sql.functions import udf\n",
    "from pyspark.sql.types import StringType\n",
    "\n",
    "from pyspark.sql import Window\n",
    "from pyspark.sql.functions import row_number\n",
    "\n",
    "os.environ['PYSPARK_SUBMIT_ARGS'] = '--packages com.databricks:spark-xml_2.12:0.14.0 pyspark-shell'"
   ]
  },
  {
   "cell_type": "code",
   "execution_count": 2,
   "id": "df6e2d6f-59f1-4c3c-964c-d6dee2d572d8",
   "metadata": {},
   "outputs": [],
   "source": [
    "conf = SparkConf().setAppName(\"language_analysis\").setMaster('yarn')"
   ]
  },
  {
   "cell_type": "code",
   "execution_count": 3,
   "id": "bbd5ca8e-a414-40e7-b451-b9f44c7dee81",
   "metadata": {},
   "outputs": [],
   "source": [
    "sc = SparkContext(conf=conf)\n",
    "spark = SparkSession(sc)"
   ]
  },
  {
   "cell_type": "code",
   "execution_count": 4,
   "id": "4048c4ff-bd57-4973-89c6-dbe3a3a72b0c",
   "metadata": {},
   "outputs": [],
   "source": [
    "posts_sample = spark.read.format('xml')\\\n",
    ".option('rootTag', 'posts')\\\n",
    ".option('rowTag', 'row')\\\n",
    ".load(\"posts_sample.xml\")"
   ]
  },
  {
   "cell_type": "code",
   "execution_count": 5,
   "id": "dd11aa20-6034-4f57-999e-bec5568597b1",
   "metadata": {},
   "outputs": [],
   "source": [
    "wiki_languages = spark.read\\\n",
    ".option(\"header\", True)\\\n",
    ".option(\"inferSchema\", True)\\\n",
    ".csv(\"programming-languages.csv\")"
   ]
  },
  {
   "cell_type": "code",
   "execution_count": 6,
   "id": "cdf4c03c-bc13-4036-920d-d8ac0801cb2e",
   "metadata": {},
   "outputs": [
    {
     "name": "stdout",
     "output_type": "stream",
     "text": [
      "root\n",
      " |-- _AcceptedAnswerId: long (nullable = true)\n",
      " |-- _AnswerCount: long (nullable = true)\n",
      " |-- _Body: string (nullable = true)\n",
      " |-- _ClosedDate: timestamp (nullable = true)\n",
      " |-- _CommentCount: long (nullable = true)\n",
      " |-- _CommunityOwnedDate: timestamp (nullable = true)\n",
      " |-- _CreationDate: timestamp (nullable = true)\n",
      " |-- _FavoriteCount: long (nullable = true)\n",
      " |-- _Id: long (nullable = true)\n",
      " |-- _LastActivityDate: timestamp (nullable = true)\n",
      " |-- _LastEditDate: timestamp (nullable = true)\n",
      " |-- _LastEditorDisplayName: string (nullable = true)\n",
      " |-- _LastEditorUserId: long (nullable = true)\n",
      " |-- _OwnerDisplayName: string (nullable = true)\n",
      " |-- _OwnerUserId: long (nullable = true)\n",
      " |-- _ParentId: long (nullable = true)\n",
      " |-- _PostTypeId: long (nullable = true)\n",
      " |-- _Score: long (nullable = true)\n",
      " |-- _Tags: string (nullable = true)\n",
      " |-- _Title: string (nullable = true)\n",
      " |-- _ViewCount: long (nullable = true)\n",
      " |-- _corrupt_record: string (nullable = true)\n",
      "\n",
      "root\n",
      " |-- name: string (nullable = true)\n",
      " |-- wikipedia_url: string (nullable = true)\n",
      "\n"
     ]
    }
   ],
   "source": [
    "posts_sample.printSchema()\n",
    "wiki_languages.printSchema()"
   ]
  },
  {
   "cell_type": "code",
   "execution_count": 7,
   "id": "6bbf3a0d-8a15-4e38-993e-3d46af5dec15",
   "metadata": {},
   "outputs": [],
   "source": [
    "lang_list = wiki_languages.select(\"name\")\\\n",
    ".rdd\\\n",
    ".map(lambda x: x[0].lower())\\\n",
    ".collect()"
   ]
  },
  {
   "cell_type": "code",
   "execution_count": 8,
   "id": "40fdb855-3557-47fe-8a38-790c3fbe94ff",
   "metadata": {},
   "outputs": [],
   "source": [
    "def get_year(date):\n",
    "    return str(date.year) if date.year >= 2010 and date.year < 2020 else \"invalid\"\n",
    "\n",
    "def get_languages(tags):\n",
    "    temp = tags.split(\">\")[0]\n",
    "    temp = temp[1:]\n",
    "    if temp not in lang_list:\n",
    "        return \"invalid\"\n",
    "    return temp\n",
    "\n",
    "get_year_udf = udf(get_year, StringType())\n",
    "get_languages_udf = udf(get_languages, StringType())"
   ]
  },
  {
   "cell_type": "code",
   "execution_count": 9,
   "id": "3a0ee502-db79-4733-a11f-5388597b79c8",
   "metadata": {},
   "outputs": [
    {
     "name": "stdout",
     "output_type": "stream",
     "text": [
      "+----+------------+-----+\n",
      "|year|    language|views|\n",
      "+----+------------+-----+\n",
      "|2010|      python| 9879|\n",
      "|2010|        ruby| 9649|\n",
      "|2010|           r| 6709|\n",
      "|2010|         php| 6274|\n",
      "|2010|           c| 2645|\n",
      "|2010|  javascript| 1587|\n",
      "|2010| applescript|  477|\n",
      "|2010|        java|  132|\n",
      "|2011|  javascript|62543|\n",
      "|2011|           c|59971|\n",
      "|2011|        java|40204|\n",
      "|2011|      python|33332|\n",
      "|2011| objective-c|16941|\n",
      "|2011|        bash|14716|\n",
      "|2011|         php| 7285|\n",
      "|2011|        ruby| 3581|\n",
      "|2011|      delphi| 1722|\n",
      "|2011|      scheme| 1422|\n",
      "|2012|        ruby|42566|\n",
      "|2012|        java|11728|\n",
      "|2012|  javascript| 8461|\n",
      "|2012|         php| 8148|\n",
      "|2012|      python| 1595|\n",
      "|2013|        java|30035|\n",
      "|2013|  javascript|22551|\n",
      "|2013|        perl|10147|\n",
      "|2013|         php| 9714|\n",
      "|2013|      python| 8058|\n",
      "|2013|  powershell|  746|\n",
      "|2013|           c|  528|\n",
      "|2013|        ruby|  366|\n",
      "|2013|       scala|  210|\n",
      "|2013|coffeescript|   62|\n",
      "|2014|         php|88804|\n",
      "|2014|        java|62097|\n",
      "|2014|  javascript|19840|\n",
      "|2014|      python|19618|\n",
      "|2014|      delphi|12411|\n",
      "|2014|          go|  476|\n",
      "|2014|         sas|  457|\n",
      "|2014|        bash|  220|\n",
      "|2014|           c|  182|\n",
      "|2014|        ruby|  168|\n",
      "|2015|  javascript| 8724|\n",
      "|2015|        java| 7524|\n",
      "|2015|      python| 6785|\n",
      "|2015|         php| 4576|\n",
      "|2015|      elixir|  705|\n",
      "|2015|           c|  305|\n",
      "|2015|      scheme|  221|\n",
      "|2015|      opencl|  150|\n",
      "|2015|        bash|  107|\n",
      "|2016|      python|28721|\n",
      "|2016|        java|20719|\n",
      "|2016|  powershell|14699|\n",
      "|2016|  javascript| 9382|\n",
      "|2016|         php| 9370|\n",
      "|2016|  typescript| 3447|\n",
      "|2016|       scala| 3129|\n",
      "|2016|           c| 2049|\n",
      "|2016|           r| 1045|\n",
      "|2016|        perl|  562|\n",
      "|2017|      python| 6148|\n",
      "|2017|         php| 5900|\n",
      "|2017|  javascript| 5569|\n",
      "|2017|      delphi| 4472|\n",
      "|2017|           r| 1804|\n",
      "|2017|        java|  804|\n",
      "|2017|        ruby|   95|\n",
      "|2017|           c|   90|\n",
      "|2017|     haskell|   69|\n",
      "|2017|  powershell|   42|\n",
      "|2018|  javascript| 2871|\n",
      "|2018|        java| 1401|\n",
      "|2018|      python| 1314|\n",
      "|2018|          go| 1132|\n",
      "|2018|         php|  342|\n",
      "|2018|       scala|  332|\n",
      "|2018|  typescript|   49|\n",
      "|2018|           r|   36|\n",
      "|2019|  javascript| 1440|\n",
      "|2019|      python|  647|\n",
      "|2019|         php|  360|\n",
      "|2019|        java|  348|\n",
      "|2019|           c|  201|\n",
      "|2019|      matlab|   59|\n",
      "|2019|           r|   51|\n",
      "|2019|          go|   48|\n",
      "+----+------------+-----+\n",
      "\n"
     ]
    }
   ],
   "source": [
    "posts_crop = posts_sample.select(\"_CreationDate\", \"_Tags\", \"_ViewCount\")\\\n",
    ".where(\"_CreationDate is not null and _Tags is not null\")\n",
    "\n",
    "posts_crop = posts_crop.withColumn(\"_CreationDate\", \n",
    "                                   get_year_udf(posts_crop._CreationDate))\n",
    "posts_crop = posts_crop.withColumn(\"_Tags\", \n",
    "                                   get_languages_udf(posts_crop._Tags))\n",
    "\n",
    "posts_crop = posts_crop.select(\"*\")\\\n",
    ".where(\"_Tags != 'invalid' and _CreationDate != 'invalid'\")\\\n",
    ".groupBy(\"_CreationDate\", \"_Tags\")\\\n",
    ".sum(\"_ViewCount\")\\\n",
    "\n",
    "window = Window.partitionBy(posts_crop[\"_CreationDate\"])\\\n",
    ".orderBy(posts_crop[\"sum(_ViewCount)\"].desc())\n",
    "\n",
    "posts_crop = posts_crop.select('*', row_number().over(window).alias('row_number'))\\\n",
    ".filter(col('row_number') <= 10)\\\n",
    ".drop(\"row_number\")\n",
    "\n",
    "posts_crop = posts_crop.orderBy(\"_CreationDate\",\n",
    "                                col(\"sum(_ViewCount)\").desc())\n",
    "\n",
    "posts_crop = posts_crop.withColumnRenamed(\"_CreationDate\", \"year\")\n",
    "posts_crop = posts_crop.withColumnRenamed(\"_Tags\", \"language\")\n",
    "posts_crop = posts_crop.withColumnRenamed(\"sum(_ViewCount)\", \"views\")\n",
    "\n",
    "posts_crop.show(100)"
   ]
  },
  {
   "cell_type": "code",
   "execution_count": null,
   "id": "025d62ca-15b3-4000-ad74-3f3d3c996ed6",
   "metadata": {},
   "outputs": [],
   "source": [
    "posts_crop.write.mode('overwrite').parquet(\"top_10_languages_per_year_between_2010_and_2020.parquet\")"
   ]
  },
  {
   "cell_type": "code",
   "execution_count": null,
   "id": "33ea9d50-385c-458f-a370-ffba578d3527",
   "metadata": {},
   "outputs": [],
   "source": [
    "sc.stop()"
   ]
  }
 ],
 "metadata": {
  "kernelspec": {
   "display_name": "Python 3",
   "language": "python",
   "name": "python3"
  },
  "language_info": {
   "codemirror_mode": {
    "name": "ipython",
    "version": 3
   },
   "file_extension": ".py",
   "mimetype": "text/x-python",
   "name": "python",
   "nbconvert_exporter": "python",
   "pygments_lexer": "ipython3",
   "version": "3.9.5"
  }
 },
 "nbformat": 4,
 "nbformat_minor": 5
}
